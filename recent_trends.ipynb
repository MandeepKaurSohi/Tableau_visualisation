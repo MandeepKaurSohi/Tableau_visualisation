{
 "cells": [
  {
   "cell_type": "code",
   "execution_count": 1,
   "id": "51df5f02-1717-4e00-8eb8-5c850a0e2280",
   "metadata": {},
   "outputs": [],
   "source": [
    "# Import dependencies\n",
    "import pandas as pd\n",
    "import os"
   ]
  },
  {
   "cell_type": "code",
   "execution_count": 2,
   "id": "0d59c817-b53e-4596-9619-fc01b26bf164",
   "metadata": {},
   "outputs": [],
   "source": [
    "# Folder and file paths\n",
    "folder_path = \"/Users/harwinder/Desktop/Tableau_Project/Resources/\"\n",
    "file_names = ['sep_2024.csv', 'oct_2024.csv', 'nov_2024.csv']\n",
    "file_paths = [os.path.join(folder_path, file_name) for file_name in file_names]"
   ]
  },
  {
   "cell_type": "code",
   "execution_count": 3,
   "id": "c5b5688c-71e1-4ab8-a8e8-a063fada52b6",
   "metadata": {},
   "outputs": [],
   "source": [
    "# Merge data\n",
    "data_frames = []\n",
    "for file_path in file_paths:\n",
    "    data = pd.read_csv(file_path, nrows=5000)  # Limit to 5000 rows\n",
    "    data_frames.append(data)\n",
    "merged_dataset = pd.concat(data_frames, ignore_index=True)"
   ]
  },
  {
   "cell_type": "code",
   "execution_count": 4,
   "id": "331bf6a9-4083-490f-b1e7-225b9fb048c6",
   "metadata": {},
   "outputs": [
    {
     "name": "stdout",
     "output_type": "stream",
     "text": [
      "Data Types Before Cleaning:\n",
      "\n",
      "ride_id                object\n",
      "rideable_type          object\n",
      "started_at             object\n",
      "ended_at               object\n",
      "start_station_name     object\n",
      "start_station_id       object\n",
      "end_station_name       object\n",
      "end_station_id         object\n",
      "start_lat             float64\n",
      "start_lng             float64\n",
      "end_lat               float64\n",
      "end_lng               float64\n",
      "member_casual          object\n",
      "dtype: object\n"
     ]
    }
   ],
   "source": [
    "# Check data types before cleaning\n",
    "print(\"Data Types Before Cleaning:\\n\")\n",
    "print(merged_dataset.dtypes)\n"
   ]
  },
  {
   "cell_type": "code",
   "execution_count": 5,
   "id": "1b284bde-10f6-4409-8401-ef7a2463e8c1",
   "metadata": {},
   "outputs": [],
   "source": [
    "# Handle missing values\n",
    "merged_dataset['start_station_name'] = merged_dataset['start_station_name'].fillna('Unknown')\n",
    "merged_dataset['end_station_name'] = merged_dataset['end_station_name'].fillna('Unknown')\n",
    "merged_dataset['start_station_id'] = merged_dataset['start_station_id'].fillna(-1)\n",
    "merged_dataset['end_station_id'] = merged_dataset['end_station_id'].fillna(-1)"
   ]
  },
  {
   "cell_type": "code",
   "execution_count": 6,
   "id": "a1d70210-92f9-4f27-9590-32d9ef5af6f2",
   "metadata": {},
   "outputs": [],
   "source": [
    "# Drop duplicates\n",
    "merged_dataset = merged_dataset.drop_duplicates()"
   ]
  },
  {
   "cell_type": "code",
   "execution_count": 7,
   "id": "dd15357c-227b-4d4e-ae97-dafb273e6e1d",
   "metadata": {},
   "outputs": [],
   "source": [
    "# Convert to datetime\n",
    "merged_dataset['started_at'] = pd.to_datetime(merged_dataset['started_at'], errors='coerce')\n",
    "merged_dataset['ended_at'] = pd.to_datetime(merged_dataset['ended_at'], errors='coerce')"
   ]
  },
  {
   "cell_type": "code",
   "execution_count": 8,
   "id": "a138d4d7-14ae-4e2f-977c-db5809047f97",
   "metadata": {},
   "outputs": [],
   "source": [
    "# Ensure IDs are numeric\n",
    "merged_dataset['start_station_id'] = pd.to_numeric(merged_dataset['start_station_id'], errors='coerce')\n",
    "merged_dataset['end_station_id'] = pd.to_numeric(merged_dataset['end_station_id'], errors='coerce')"
   ]
  },
  {
   "cell_type": "code",
   "execution_count": 9,
   "id": "e5984b63-6eac-46a0-84f8-92dfde681ea4",
   "metadata": {},
   "outputs": [],
   "source": [
    "# Add calculated columns\n",
    "merged_dataset['trip_duration_minutes'] = (merged_dataset['ended_at'] - merged_dataset['started_at']).dt.total_seconds() / 60\n",
    "merged_dataset['day_of_week'] = merged_dataset['started_at'].dt.day_name()\n",
    "merged_dataset['hour_of_day'] = merged_dataset['started_at'].dt.hour"
   ]
  },
  {
   "cell_type": "code",
   "execution_count": 10,
   "id": "fb36e2e3-490b-41c9-9789-67a31bf48fc2",
   "metadata": {},
   "outputs": [],
   "source": [
    "# Filter invalid data\n",
    "merged_dataset = merged_dataset[merged_dataset['trip_duration_minutes'] > 0]\n"
   ]
  },
  {
   "cell_type": "code",
   "execution_count": 11,
   "id": "a3ca3a46-6a15-4b34-8e13-17002433764b",
   "metadata": {},
   "outputs": [],
   "source": [
    "# Convert string columns to lowercase for consistency\n",
    "merged_dataset['rideable_type'] = merged_dataset['rideable_type'].str.lower()\n",
    "merged_dataset['member_casual'] = merged_dataset['member_casual'].str.lower()"
   ]
  },
  {
   "cell_type": "code",
   "execution_count": 12,
   "id": "b3ca568f-ba04-4eaf-927a-000a4823735b",
   "metadata": {},
   "outputs": [],
   "source": [
    "# Rename columns\n",
    "merged_dataset = merged_dataset.rename(columns={\n",
    "    'ride_id': 'Ride Id', 'rideable_type': 'Rideable Type', 'started_at': 'Started At',\n",
    "    'ended_at': 'Ended At', 'start_station_name': 'Start Station Name',\n",
    "    'start_station_id': 'Start Station Id', 'end_station_name': 'End Station Name',\n",
    "    'end_station_id': 'End Station Id', 'start_lat': 'Start Lat', 'start_lng': 'Start Lng',\n",
    "    'end_lat': 'End Lat', 'end_lng': 'End Lng', 'member_casual': 'Member Casual'\n",
    "})"
   ]
  },
  {
   "cell_type": "code",
   "execution_count": 13,
   "id": "935e12af-8bcd-4b41-9258-3c0a348fd6b2",
   "metadata": {},
   "outputs": [],
   "source": [
    "# Drop rows with missing lat/lng\n",
    "merged_dataset = merged_dataset.dropna(subset=['End Lat', 'End Lng'])"
   ]
  },
  {
   "cell_type": "code",
   "execution_count": 14,
   "id": "f1a0e418-cb01-4f14-9705-055e4b20b4d4",
   "metadata": {},
   "outputs": [
    {
     "name": "stdout",
     "output_type": "stream",
     "text": [
      "Could not convert Start Station Id to int64: Cannot convert non-finite values (NA or inf) to integer\n",
      "Could not convert End Station Id to int64: Cannot convert non-finite values (NA or inf) to integer\n"
     ]
    }
   ],
   "source": [
    "# Ensure data types are correct\n",
    "expected_dtypes = {\n",
    "    'Ride Id': 'str',\n",
    "    'Rideable Type': 'category',\n",
    "    'Started At': 'datetime64[ns]',\n",
    "    'Ended At': 'datetime64[ns]',\n",
    "    'Start Station Name': 'str',\n",
    "    'Start Station Id': 'int64',\n",
    "    'End Station Name': 'str',\n",
    "    'End Station Id': 'int64',\n",
    "    'Start Lat': 'float64',\n",
    "    'Start Lng': 'float64',\n",
    "    'End Lat': 'float64',\n",
    "    'End Lng': 'float64',\n",
    "    'Member Casual': 'category',\n",
    "    'trip_duration_minutes': 'float64',\n",
    "    'day_of_week': 'str',\n",
    "    'hour_of_day': 'int64'\n",
    "}\n",
    "\n",
    "for column, dtype in expected_dtypes.items():\n",
    "    if column in merged_dataset.columns and merged_dataset[column].dtype != dtype:\n",
    "        try:\n",
    "            merged_dataset[column] = merged_dataset[column].astype(dtype)\n",
    "        except Exception as e:\n",
    "            print(f\"Could not convert {column} to {dtype}: {e}\")"
   ]
  },
  {
   "cell_type": "code",
   "execution_count": 16,
   "id": "c27e2c47-db56-42ea-bc57-411828d7f9c8",
   "metadata": {},
   "outputs": [],
   "source": [
    "# Replace NaN or invalid values with -1 before conversion\n",
    "merged_dataset['Start Station Id'] = merged_dataset['Start Station Id'].fillna(-1)\n",
    "merged_dataset['End Station Id'] = merged_dataset['End Station Id'].fillna(-1)"
   ]
  },
  {
   "cell_type": "code",
   "execution_count": 20,
   "id": "8a733044-39b4-483d-b30e-17ef7147ade8",
   "metadata": {},
   "outputs": [],
   "source": [
    "#convert columns to integer\n",
    "merged_dataset['Start Station Id'] = merged_dataset['Start Station Id'].astype('int64')\n",
    "merged_dataset['End Station Id'] = merged_dataset['End Station Id'].astype('int64')"
   ]
  },
  {
   "cell_type": "code",
   "execution_count": 21,
   "id": "fa5cf9fb-c145-43b6-a95b-056615f77279",
   "metadata": {},
   "outputs": [
    {
     "name": "stdout",
     "output_type": "stream",
     "text": [
      "\n",
      "Data Types After Conversion:\n",
      "\n",
      "Ride Id                          object\n",
      "Rideable Type                  category\n",
      "Started At               datetime64[ns]\n",
      "Ended At                 datetime64[ns]\n",
      "Start Station Name               object\n",
      "Start Station Id                  int64\n",
      "End Station Name                 object\n",
      "End Station Id                    int64\n",
      "Start Lat                       float64\n",
      "Start Lng                       float64\n",
      "End Lat                         float64\n",
      "End Lng                         float64\n",
      "Member Casual                  category\n",
      "trip_duration_minutes           float64\n",
      "day_of_week                      object\n",
      "hour_of_day                       int64\n",
      "dtype: object\n"
     ]
    }
   ],
   "source": [
    "# Check data types after conversion\n",
    "print(\"\\nData Types After Conversion:\\n\")\n",
    "print(merged_dataset.dtypes)"
   ]
  },
  {
   "cell_type": "code",
   "execution_count": 24,
   "id": "344a6da0-f92d-4f58-9d44-73a918588f52",
   "metadata": {},
   "outputs": [
    {
     "name": "stdout",
     "output_type": "stream",
     "text": [
      "Cleaned data saved to: /Users/harwinder/Desktop/Tableau_Project/final_datasets/recent_trends_citibike_dataset.csv\n"
     ]
    }
   ],
   "source": [
    "# Save the cleaned dataset\n",
    "cleaned_file_path = \"/Users/harwinder/Desktop/Tableau_Project/final_datasets/recent_trends_citibike_dataset.csv\"\n",
    "merged_dataset.to_csv(cleaned_file_path, index=False)\n",
    "print(f\"Cleaned data saved to: {cleaned_file_path}\")"
   ]
  },
  {
   "cell_type": "code",
   "execution_count": null,
   "id": "c7ca6210-ac74-43b5-a119-6f6d21916c53",
   "metadata": {},
   "outputs": [],
   "source": []
  }
 ],
 "metadata": {
  "kernelspec": {
   "display_name": "Python 3 (ipykernel)",
   "language": "python",
   "name": "python3"
  },
  "language_info": {
   "codemirror_mode": {
    "name": "ipython",
    "version": 3
   },
   "file_extension": ".py",
   "mimetype": "text/x-python",
   "name": "python",
   "nbconvert_exporter": "python",
   "pygments_lexer": "ipython3",
   "version": "3.10.14"
  }
 },
 "nbformat": 4,
 "nbformat_minor": 5
}
